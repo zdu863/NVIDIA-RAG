{
 "cells": [
  {
   "cell_type": "markdown",
   "id": "435d8ba0-b2ad-4f79-8d7b-370c0b88010a",
   "metadata": {
    "editable": true,
    "id": "435d8ba0-b2ad-4f79-8d7b-370c0b88010a",
    "slideshow": {
     "slide_type": ""
    },
    "tags": []
   },
   "source": [
    "<center><a href=\"https://www.nvidia.com/en-us/training/\"><img src=\"https://dli-lms.s3.amazonaws.com/assets/general/DLI_Header_White.png\" width=\"400\" height=\"186\" /></a></center>"
   ]
  },
  {
   "cell_type": "markdown",
   "id": "REpUhcdU-Qo0",
   "metadata": {
    "id": "REpUhcdU-Qo0"
   },
   "source": [
    "<br>\n",
    "\n",
    "# <font color=\"#76b900\">**Notebook 1:** The Course Environment</font>\n",
    "\n",
    "<br>\n",
    "\n",
    "In this module, we'll take some time to introduce the course environment, learning about some of the setup requirements, workflows, and considerations.\n",
    "\n",
    "**NOTE:** This notebook, though accessible through **Google Colab**, strongly relies on the ***DLI Course Environment*** to run all of the cells properly. However, since there are no todos in this section and it is mainly intended as a vehicle for understanding what's going on behind the scenes, the experience of just reading through this notebook will not compromise much of the experience. For this reason, we have left the cell outputs from our run included by default.\n",
    "\n",
    "**Recommendation:** It is a good idea to pull up and familiarize yourself with the course environment for a bit, but this is optional. Feel free to wait until later. **When you're not using the environment, we'd recommend shutting down your session!**\n",
    "\n",
    "<br>\n",
    "\n",
    "### **Learning Objectives:**\n",
    "\n",
    "- Learn about the course environment through the lens of how it was created and why it was organized this way.\n",
    "- Understand how to use the Jupyter Labs interface to interact with the surrounding microservices using active network ports.\n",
    "\n",
    "<br>\n",
    "\n",
    "### **Questions To Think About:**\n",
    "\n",
    "1. What kinds of resources do you expect an environment for this course to have, and how would it be different from your local compute environment?\n",
    "2. How different would things be if one of your microservices were running on another host environment (publicly-accessible or gated)?\n",
    "    - **Same Idea, Different Question**: How hard would it be to mimic the functionality of a local microservice despite being served by a remote host, and are there any inherent drawbacks of doing this?\n",
    "3. What kinds of microservices do you actually need to spin up on a per-user basis, and what kinds are better left to run persistently?\n",
    "\n",
    "<br>\n",
    "\n",
    "### **Notebook Source:**\n",
    "\n",
    "- This notebook is part of a larger [**NVIDIA Deep Learning Institute**](https://www.nvidia.com/en-us/training/) course titled [**Building RAG Agents with LLMs**](https://www.nvidia.com/en-sg/training/instructor-led-workshops/building-rag-agents-with-llms/). If sharing this material, please give credit and link back to the original course.\n",
    "\n",
    "<br>\n"
   ]
  },
  {
   "cell_type": "markdown",
   "id": "60bac59f-c4ec-450e-a267-766bc09d02ae",
   "metadata": {
    "id": "60bac59f-c4ec-450e-a267-766bc09d02ae"
   },
   "source": [
    "<br>\n",
    "\n",
    "## **Welcome To Your Cloud Environment**\n",
    "\n",
    "This is a Jupyter Labs environment that you can use to work on the course content. In most courses, this environment will be a given interface with all the necessary components already running in the background. To help motivate further exploration, this course will also use it as a gateway to understanding microservices orchestration - especially for applications centered around **Large Language Models (LLMs)**. Let's start by exploring the key components of your cloud session.\n"
   ]
  },
  {
   "cell_type": "markdown",
   "id": "k7E6HHSHpFiZ",
   "metadata": {
    "id": "k7E6HHSHpFiZ"
   },
   "source": [
    "<!-- <img src=\"https://drive.google.com/uc?export=view&id=11MGA5fkwA1XQAglQYQbOgjGTImO3TkLS\" width=800/> -->\n",
    "<!-- <img src=\"imgs/simple-env.png\" width=800/> -->\n",
    "> <img src=\"https://dli-lms.s3.amazonaws.com/assets/s-fx-15-v1/imgs/simple-env.png\" width=800px/>"
   ]
  },
  {
   "cell_type": "markdown",
   "id": "cc03e1bf-64cb-436e-9db1-4be537dab390",
   "metadata": {
    "id": "cc03e1bf-64cb-436e-9db1-4be537dab390"
   },
   "source": [
    "----\n",
    "\n",
    "<br>\n",
    "\n",
    "## **Part 1:** Hosting Containers\n",
    "\n",
    "When you access this Jupyter Notebook, an instance on a cloud platform like AWS or Azure is allocated to you by NVIDIA DLI (Deep Learning Institute). This cloud instance forms your base cloud environment and includes:\n",
    "\n",
    "- A dedicated CPU, and possibly a GPU, for processing.\n",
    "- A pre-installed base operating system.\n",
    "- Some exposed ports which can be accessed via a known web address.\n",
    "\n",
    "Though this gives you all the necessary resources to get started, it is essentially just a blank canvas by default. If we wanted, we could run some baked routines to download a few resources and expose the environment with full access. However, this may not be a great idea when other processes need to run in the background. Perhaps we'd want to spin up a database service, load in some large documents, or maybe set up a proxy service for a safe connection.\n"
   ]
  },
  {
   "cell_type": "markdown",
   "id": "dbc4ba1d-f20b-47f2-b37d-ce5247a25c3e",
   "metadata": {
    "id": "dbc4ba1d-f20b-47f2-b37d-ce5247a25c3e"
   },
   "source": [
    "To transform our basic setup into a functional development space with a diverse range of processes, we've deployed a series of microservices in the background that a user or system could rely on. [**Microservices**](https://en.wikipedia.org/wiki/Microservices) are autonomous services performing specific functions and communicating through lightweight connection protocols. In your environment, this includes the Jupyter Labs server along with several other services that could be useful to investigate and experiment with.\n",
    "\n",
    "<br>"
   ]
  },
  {
   "cell_type": "markdown",
   "id": "kq_sYaj68I8a",
   "metadata": {
    "id": "kq_sYaj68I8a"
   },
   "source": [
    "<!-- <img src=\"https://drive.google.com/uc?export=view&id=1r0BH_zROmGosrsUt_hhAY4azXc4wtjea\" width=800/> -->\n",
    "<!-- <img src=\"imgs/docker-ms.png\" width=1000/> -->\n",
    "> <img src=\"https://dli-lms.s3.amazonaws.com/assets/s-fx-15-v1/imgs/docker-ms.png\" width=1000px/>"
   ]
  },
  {
   "cell_type": "markdown",
   "id": "aBsNWKXH8Ns0",
   "metadata": {
    "id": "aBsNWKXH8Ns0"
   },
   "source": [
    "Utilizing [**Docker**](https://www.docker.com/) for microservice orchestration, our setup makes it relatively simple to add new microservices that adhere to principles like **containerization** and **uniformity**:\n",
    "\n",
    "- **Containerization:** This process encapsulates each service in a standalone container, comprising the necessary software components — code, runtime, libraries, and system tools. These containers interact with host resources and other services through network ports. Key advantages include:\n",
    "    - **Portability:** Facilitating easy transfer and deployment across diverse environments.\n",
    "    - **Isolation:** Ensuring independent operation of each container, minimizing service conflicts.\n",
    "    - **Scalability:** Simplifying the process of scaling services to meet varying demands or changing the *deployment topology* (which services are running on which resources, where they are located, and who is accessing them).\n",
    "\n",
    "- **Uniformity:** Aiming for consistent operation across different environments, Docker ensures that each microservice performs reliably. However, some constraints are noteworthy:\n",
    "    - **Hardware Sensitivity:** Performance may vary in environments with differing hardware, underscoring the need for adaptable microservice design.\n",
    "    - **Environmental Factors:** Variables like network latency or storage capacity can impact container efficiency.\n",
    "\n",
    "For a more comprehensive overview of Docker and containerization for microservice orcherstation, we'd recommend visiting [Docker's official documentation](https://docs.docker.com/) when you have the time. Understanding these principles will be quite useful for those interested in moving their ambitions towards practical deployment."
   ]
  },
  {
   "cell_type": "markdown",
   "id": "cfd88242-fe97-4bb7-b322-a3a4308a37b4",
   "metadata": {
    "id": "cfd88242-fe97-4bb7-b322-a3a4308a37b4"
   },
   "source": [
    "----\n",
    "\n",
    "<br>\n",
    "\n",
    "## **Part 2:** The Jupyter Labs Microservice\n",
    "\n",
    "Now that we've discussed general microservices, we can focus in on the one you've been interacting with all along: the **Jupyter Labs microservice**. This interactive web application allows you to write and run Python code (among many other things) using the software installed on the remote host! This should already be very familiar to you from web-based services like [Google Colab](https://colab.research.google.com/?utm_source=scs-index), but you may have never had to think about *why* this environment is there and how it's working behind the scenes. However, since we're talking about microservice orchestration for LLM applications, today is a good day to check it out!"
   ]
  },
  {
   "cell_type": "markdown",
   "id": "37b6b6b3-d43b-4b1e-ba99-4582984fc378",
   "metadata": {
    "id": "37b6b6b3-d43b-4b1e-ba99-4582984fc378"
   },
   "source": [
    "**Question:** Why is the Jupyter Notebook in our course environment?\n",
    "\n",
    "**Answer:** Inside some docker-compose file [like the one in `composer`](composer/docker-compose.yaml), a container with the name `jupyter-notebook-server` was launched with the following profile:\n",
    "\n",
    "```yaml\n",
    "  lab:\n",
    "    container_name: jupyter-notebook-server\n",
    "    build:\n",
    "      context: ..\n",
    "      dockerfile: composer/Dockerfile\n",
    "    ports: # Maps a port on the host to a port in the container.\n",
    "    - \"9010:9010\"\n",
    "    - \"9011:9011\"\n",
    "    - \"9012:9012\"\n",
    "```\n",
    "\n",
    "In a simple sentence, this component creates a service with the container name `jupyter-notebook-server` which gets constructed by running the routine in [`composer/Dockerfile`](composer/Dockerfile) from the image specified at the top of that file (which you may notice is a slim image with `python` pre-installed).\n",
    "\n",
    "After this construction is over and the launch doesn't error out, a user can access the running Jupyter labs session and interact with the provided interface!"
   ]
  },
  {
   "cell_type": "markdown",
   "id": "f9eaced1-aae7-4681-a84b-79e045158d10",
   "metadata": {
    "id": "f9eaced1-aae7-4681-a84b-79e045158d10"
   },
   "source": [
    "----\n",
    "\n",
    "<br>\n",
    "\n",
    "## **Part 3:** Interacting With Microservices As The Host"
   ]
  },
  {
   "cell_type": "markdown",
   "id": "89757b19-470e-402e-9a93-860c7824e4ae",
   "metadata": {
    "id": "89757b19-470e-402e-9a93-860c7824e4ae"
   },
   "source": [
    "We've established that this Jupyter-presenting microservice exists and we're interacting with it right now. So... what else is there? We referenced [`composer/docker-compose.yaml`](composer/docker-compose.yaml) earlier, and can investigate it to see what other components were created as part of our spin-up routine. This happens because a version of this file is ran from the host environment (outside of the microservices) using a command like this:"
   ]
  },
  {
   "cell_type": "markdown",
   "id": "5a4f801e-6633-4b31-bbdc-3dd234f8b78a",
   "metadata": {
    "id": "5a4f801e-6633-4b31-bbdc-3dd234f8b78a"
   },
   "source": [
    "```sh\n",
    "> docker compose up -d\n",
    "## Building may also happen here if that hasn't happened yet\n",
    "\n",
    "Starting docker_router                 ... done\n",
    "Starting llm_client                    ... done\n",
    "Starting s-fx-15-v1-task4_assessment_1 ... done\n",
    "Recreating jupyter-notebook-server     ... done\n",
    "Recreating frontend                    ... done\n",
    "Recreating s-fx-15-v1-task4_nginx_1    ... done\n",
    "Recreating modifier                    ... done\n",
    ">\n",
    "```"
   ]
  },
  {
   "cell_type": "markdown",
   "id": "10fd92be-0157-4137-8849-acd054e0ddcd",
   "metadata": {
    "id": "10fd92be-0157-4137-8849-acd054e0ddcd"
   },
   "source": [
    "### **Interacting From *Outside* Our Jupyter Labs Microservice**\n",
    "\n",
    "After our microservices have been started, we can try to check the status of the other microservices from the host environment via a simple command: `docker ps -a` (or a less verbose version):"
   ]
  },
  {
   "cell_type": "code",
   "execution_count": null,
   "id": "a5d65201-4fcb-418f-bf6f-1dcfd7968a7b",
   "metadata": {
    "id": "a5d65201-4fcb-418f-bf6f-1dcfd7968a7b"
   },
   "outputs": [],
   "source": [
    "'''\n",
    "> docker ps -a\n",
    "CONTAINER ID   IMAGE                            COMMAND                  CREATED          STATUS                   PORTS                                                                     NAMES\n",
    "7eff861362dc   s-fx-15-v1-task4_lab             \"jupyter lab --ip 0.…\"   14 minutes ago   Up 14 minutes            8888/tcp, 0.0.0.0:9010-9012->9010-9012/tcp, :::9010-9012->9010-9012/tcp   jupyter-notebook-server...\n",
    "(too much info)\n",
    "\n",
    "\n",
    ">  docker ps --format \"table {{.Names}}\\t{{.Image}}\\t{{.Ports}}\"\n",
    "NAMES                           IMAGE                            PORTS\n",
    "s-fx-15-v1-task4_nginx_1        nginx:1.15.12-alpine             0.0.0.0:80->80/tcp, :::80->80/tcp\n",
    "frontend                        s-fx-15-v1-task4_frontend        0.0.0.0:8090->8090/tcp, :::8090->8090/tcp\n",
    "jupyter-notebook-server         s-fx-15-v1-task4_lab             8888/tcp, 0.0.0.0:9010-9012->9010-9012/tcp, :::9010-9012->9010-9012/tcp\n",
    "llm_client                      s-fx-15-v1-task4_llm_client      0.0.0.0:9000->9000/tcp, :::9000->9000/tcp\n",
    "docker_router                   s-fx-15-v1-task4_docker_router   0.0.0.0:8070->8070/tcp, :::8070->8070/tcp\n",
    "s-fx-15-v1-task4_assessment_1   s-fx-15-v1-task4_assessment      0.0.0.0:81->8080/tcp, :::81->8080/tcp\n",
    "''';"
   ]
  },
  {
   "cell_type": "markdown",
   "id": "8e9b1cb5-7f2c-4c45-ac94-1c429e44e502",
   "metadata": {
    "id": "8e9b1cb5-7f2c-4c45-ac94-1c429e44e502"
   },
   "source": [
    "This shows us our list of running containers and gives us a decent starting point to interface with our microservices from outside our containers. Some of the things we could do from this context include:\n",
    "\n",
    "- Moving files to and from containers via routines like `scp` (secure copy protocol) or `docker cp`.\n",
    "    - `docker cp jupyter-notebook-server:/dli/task/paint-cat.jpg .`\n",
    "- Executing commands in a running container.\n",
    "    - `docker exec -it jupyter-notebook-server /bin/bash -c \"ls\"`\n",
    "- Querying for the logs of a container to see its status and execution processes.\n",
    "    - `docker logs jupyter-notebook-server`"
   ]
  },
  {
   "cell_type": "markdown",
   "id": "xeb5xYyC9Zo0",
   "metadata": {
    "id": "xeb5xYyC9Zo0"
   },
   "source": [
    "<br>\n",
    "\n",
    "### **Interacting From *Inside* Our Jupyter Labs Microservice**\n",
    "\n",
    "From inside, a container can only interface with other containers via the exposed ports and the resources provided to them. To illustrate, note that this Jupyter Labs notebook doesn't even have Docker installed, much less have access to the host's Docker instance:"
   ]
  },
  {
   "cell_type": "code",
   "execution_count": null,
   "id": "e67c2a0c-1f14-4c1f-91b2-6f0978ae6a1f",
   "metadata": {
    "id": "e67c2a0c-1f14-4c1f-91b2-6f0978ae6a1f"
   },
   "outputs": [],
   "source": [
    "## Should fail\n",
    "!docker ps -a"
   ]
  },
  {
   "cell_type": "markdown",
   "id": "b71c32c0-76a0-46ce-9d59-838212d7863e",
   "metadata": {
    "id": "b71c32c0-76a0-46ce-9d59-838212d7863e"
   },
   "source": [
    "<br>\n",
    "\n",
    "This is great in general for security purposes but might make it challenging to interact with other microservices. What exactly can we do from inside our container?\n",
    "\n",
    "From the host environment, we could provide a very small window into the outside world via something like the `docker_router` service. The exact code used to create the service is available in [`docker_router/docker_router.py`](docker_router/docker_router.py) and [`docker_router/Dockerfile`](docker_router/Dockerfile), which will readily imply that `help` may be one of the things you can query. Below is an example of a shell network query command which can be used to invoke the `help` routine:"
   ]
  },
  {
   "cell_type": "code",
   "execution_count": null,
   "id": "227cc8b4-a4bc-454b-83a6-8f2b8a7bf10c",
   "metadata": {
    "id": "227cc8b4-a4bc-454b-83a6-8f2b8a7bf10c"
   },
   "outputs": [],
   "source": [
    "## Should fail in colab, will work in course environment\n",
    "!curl -v docker_router:8070/help"
   ]
  },
  {
   "cell_type": "markdown",
   "id": "a7304508-c0e5-47c6-8b7f-0c14dfbb0a55",
   "metadata": {
    "id": "a7304508-c0e5-47c6-8b7f-0c14dfbb0a55"
   },
   "source": [
    "<br>\n",
    "\n",
    "The `curl` interface shown above can be very useful in general but is a bit unoptimized for our Python environment. Luckily, Python's `requests` library gives a much easier set of utilities to work with, so we'll query the containers path hinted at above using a more Pythonic interface as follows:"
   ]
  },
  {
   "cell_type": "code",
   "execution_count": null,
   "id": "f621869f-68b5-4e09-abaa-132a17b907a8",
   "metadata": {
    "id": "f621869f-68b5-4e09-abaa-132a17b907a8"
   },
   "outputs": [],
   "source": [
    "## Should fail in colab, will work in course environment\n",
    "import requests\n",
    "\n",
    "## Curl request. Best for shell environments\n",
    "# !curl -v docker_router:8070/containers\n",
    "\n",
    "## Print all running containers\n",
    "# requests.get(\"http://docker_router:8070/containers\").json()\n",
    "\n",
    "## Print the running microservices\n",
    "for entry in requests.get(\"http://docker_router:8070/containers\").json():\n",
    "    if entry.get(\"status\") == 'running':\n",
    "        print(entry.get(\"name\"))"
   ]
  },
  {
   "cell_type": "markdown",
   "id": "2b13ef3c-08d3-4594-8643-e3fb972a224e",
   "metadata": {
    "id": "2b13ef3c-08d3-4594-8643-e3fb972a224e"
   },
   "source": [
    "<br>\n",
    "\n",
    "From this, we can at least know what other microservices are running and can consider what their purposes might be:\n",
    "- **docker_router**: The service we're interacting with to find this info.\n",
    "- **jupyter-notebook-server**: The service we discussed that is running this Jupyter session.\n",
    "- **frontend**: Probably some kind of web interface...\n",
    "- **llm_client**: Probably some kind of llm server?\n",
    "- **s-fx-<...>**: Some background services (data loader, proxy service, assessment manager), which will not be discussed."
   ]
  },
  {
   "cell_type": "markdown",
   "id": "a1766852-8dff-4d85-bdf0-a3bf74f9136a",
   "metadata": {},
   "source": [
    "<!-- <img src=\"imgs/environment.png\" width=800/> -->\n",
    "> <img src=\"http://dli-lms.s3.amazonaws.com/assets/s-fx-15-v1/imgs/environment.png\" width=800px/>"
   ]
  },
  {
   "cell_type": "markdown",
   "id": "qmzY5HQUpuLM",
   "metadata": {
    "id": "qmzY5HQUpuLM"
   },
   "source": [
    "\n",
    "Aside from the last few components, all of the details regarding these components can once again be found in the [`composer`](composer) directory."
   ]
  },
  {
   "cell_type": "markdown",
   "id": "05bc6b5d-e055-4b0b-86d4-0003f73a615d",
   "metadata": {
    "id": "05bc6b5d-e055-4b0b-86d4-0003f73a615d"
   },
   "source": [
    "----\n",
    "\n",
    "<br>\n",
    "\n",
    "## **Part 4:** Checking Our Frontend\n",
    "\n",
    "Moreso than anything, this notebook is here to open the environment up for exploration and give some potential directions to look over if the microservice construction details are of interest. Since you might interact with some of these microservices throughout the course, knowing how they were made will hopefully prove quite useful!\n",
    "\n",
    "While we're at it, why don't we consider the main other microservice we'll need to interact with: **the frontend**. This microservice will host a webpage that you will need to interface with for the final assessment. Please run the following curl command to confirm that your frontend service is up and running! "
   ]
  },
  {
   "cell_type": "code",
   "execution_count": null,
   "id": "5609e1fd-5648-491d-af82-b678d2702bad",
   "metadata": {},
   "outputs": [],
   "source": [
    "## Commented out by default since it will yield a lot of output\n",
    "# !curl -v frontend:8090"
   ]
  },
  {
   "cell_type": "markdown",
   "id": "247e4f79-6d12-491a-bb4b-cf260a53e14a",
   "metadata": {},
   "source": [
    "The command should return a `200 OK` response along with a webpage (i.e., a response that starts with `<!doctype html>`), which acts as a useful health check but isn't user-friendly. To access the webpage:\n",
    "\n",
    "- **Raw Port Access (Default)**, you would change your URL to use the non-default port `8090` by entering `http://<...>.courses.nvidia.com:8090` in your browser. While this method works, it results in a barebones interface with some limitations, such as port protection mechanisms that might block access, reduced functionality due to incomplete integration with the default server settings, and potential security risks from exposing raw ports to users.\n",
    "- **Reverse-Proxy Access**, a different port is reverse-proxied and mapped to `http://<...>.courses.nvidia.com/8090` (where we will use `8091` since the application code has to change) . Reverse-proxying is beneficial because it hides the raw port from users, enhancing security by reducing direct exposure of backend services. It simplifies the URL structure, making it easier for users to access services without remembering specific port numbers. Additionally, reverse-proxying enables better load balancing and easier management of SSL certificates, providing a more seamless and secure user experience. Details out of scope for course, but feel free to check out [**`composer/nginx.conf`**](composer/nginx.conf) and [**`frontend/frontend_server_rproxy.py`**](frontend/frontend_server_rproxy.py).\n",
    "\n",
    "**You can run the cell below to generate a link:**"
   ]
  },
  {
   "cell_type": "code",
   "execution_count": null,
   "id": "51ffc2aa-7973-411b-9211-c07af4638771",
   "metadata": {},
   "outputs": [],
   "source": [
    "%%js\n",
    "var url = 'http://'+window.location.host+':8090';\n",
    "element.innerHTML = '<a style=\"color:green;\" target=\"_blank\" href='+url+'><h1>< Link To Gradio Frontend ></h1></a>';"
   ]
  },
  {
   "cell_type": "markdown",
   "id": "996763bc-6223-48d4-b3d9-5a1c264b81b7",
   "metadata": {},
   "source": [
    "***Before trying it out, be warned that the frontend microservice doesn't actually work... yet. You'll have several opportunities to interact with it and enable some functionality throughout the course, so make sure you're in the course environment for those components.***"
   ]
  },
  {
   "cell_type": "markdown",
   "id": "0556556c-b488-49ef-bd26-5dc0006597cc",
   "metadata": {
    "id": "0556556c-b488-49ef-bd26-5dc0006597cc"
   },
   "source": [
    "-----\n",
    "\n",
    "<br>\n",
    "\n",
    "## **Part 5:** Wrap-Up\n",
    "\n",
    "After the health of these services is verified, you'll be done with the first notebook!\n",
    "\n",
    "### <font color=\"#76b900\">**Great Job!**</font>\n",
    "\n",
    "### **Next Steps:**\n",
    "1. **[Optional]** Consider checking out the deployment strategy associated with `composer` AKA this entire microservice orchestration.\n",
    "2. **[Optional]** Consider checking out the docker-router microservice to see how the open connection routes were specified.\n",
    "3. **[Optional]** Revisit the **\"Questions To Think About\" Section** at the top of the notebook and think about some possible answers.\n",
    "\n",
    "<br>\n",
    "\n",
    "---"
   ]
  },
  {
   "cell_type": "markdown",
   "id": "1887394f-26fa-4bdb-82b6-db662a787eb7",
   "metadata": {
    "id": "1887394f-26fa-4bdb-82b6-db662a787eb7"
   },
   "source": [
    "<center><a href=\"https://www.nvidia.com/en-us/training/\"><img src=\"https://dli-lms.s3.amazonaws.com/assets/general/DLI_Header_White.png\" width=\"400\" height=\"186\" /></a></center>"
   ]
  }
 ],
 "metadata": {
  "colab": {
   "provenance": []
  },
  "kernelspec": {
   "display_name": "Python 3 (ipykernel)",
   "language": "python",
   "name": "python3"
  },
  "language_info": {
   "codemirror_mode": {
    "name": "ipython",
    "version": 3
   },
   "file_extension": ".py",
   "mimetype": "text/x-python",
   "name": "python",
   "nbconvert_exporter": "python",
   "pygments_lexer": "ipython3",
   "version": "3.11.9"
  }
 },
 "nbformat": 4,
 "nbformat_minor": 5
}
