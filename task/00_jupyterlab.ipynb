{
 "cells": [
  {
   "cell_type": "markdown",
   "metadata": {
    "id": "uv-NTNJ_bFDM"
   },
   "source": [
    "<center><a href=\"https://www.nvidia.com/en-us/training/\"><img src=\"https://dli-lms.s3.amazonaws.com/assets/general/DLI_Header_White.png\" width=\"400\" height=\"186\" /></a></center>"
   ]
  },
  {
   "cell_type": "markdown",
   "metadata": {
    "id": "a3qdHasbbFDU"
   },
   "source": [
    "<br>\n",
    "\n",
    "# <font color=\"#76b900\">**Notebook 0:** JupyterLab</font>\n",
    "\n",
    "<br>\n",
    "\n",
    "We use [JupyterLab](https://jupyterlab.readthedocs.io/en/stable/) to manage our environment for this hands-on lab. The [JupyterLab Interface](https://jupyterlab.readthedocs.io/en/stable/user/interface.html) is a dashboard that provides access to interactive iPython notebooks, as well as the folder structure of our environment and a terminal window into the Ubuntu operating system. The view includes a **menu bar** at the top, a **file browser** in the **left sidebar**, and a **main work area** initially open to the \"Launcher\" page.\n",
    "\n",
    "<br>\n",
    "<!-- <img src=\"https://drive.google.com/uc?export=view&id=1FJHrWRBc5s5zcZFb19sC-U64qNkf67Jt\"> -->\n",
    "> <img src=\"https://dli-lms.s3.amazonaws.com/assets/s-fx-15-v1/imgs/jl_launcher.png\" width=1000px/>\n",
    "<br>\n",
    "\n",
    "### **Some Notes:**\n",
    "\n",
    "- You can navigate the file browser just like any other file explorer. A double click on any of the items will open a new tab with its content.\n",
    "- The main work area includes tabbed views of open files that can be closed, moved, and edited as needed.\n",
    "- The notebooks, including this one, contain a series of content and code **cells**. To execute code in a code cell, press `Shift+Enter` or the \"Run\" button in the menu bar above while highlighting a cell. Sometimes, a content cell will get switched to editing mode, in which case you can press `Shift+Enter` to change it back to a readable form.\n",
    "\n",
    "**Try executing the simple print statement in the cell below.**"
   ]
  },
  {
   "cell_type": "code",
   "execution_count": null,
   "metadata": {
    "id": "FapSM5sUbFDV"
   },
   "outputs": [],
   "source": [
    "# Highlight this cell and click [Shift+Enter] to execute\n",
    "print('This is just a simple print statement')"
   ]
  },
  {
   "cell_type": "markdown",
   "metadata": {
    "id": "o1YordFBjAy0"
   },
   "source": [
    "----\n",
    "\n",
    "<br>\n",
    "\n",
    "## **Special Syntax**\n",
    "\n",
    "This course uses some intermediate Python syntax, including some implicit assumptions that need clarification. We'll be sure to clarify most of this content as the course progresses, but the following components may be helpful to know ahead of time:\n",
    "\n",
    "**Inputs, Passwords, and Secrets**:\n",
    "- `input` and `getpass` may be used, which will cause input fields to pop up under notebook cells. ***If an input request is open and you try to run another cell, your notebook will stall at the input cell or a popup error will tell you to finish your input***. Use the square ( $\\square$ ) button or enter the prompt to continue if this happens. Here is an example:"
   ]
  },
  {
   "cell_type": "code",
   "execution_count": null,
   "metadata": {
    "colab": {
     "base_uri": "https://localhost:8080/"
    },
    "executionInfo": {
     "elapsed": 7749,
     "status": "ok",
     "timestamp": 1702746049560,
     "user": {
      "displayName": "Vadim Kudlay",
      "userId": "00553664172613290122"
     },
     "user_tz": 360
    },
    "id": "wunSuseud2qf",
    "outputId": "92c63cd6-e342-499f-d566-18706d3fd35d"
   },
   "outputs": [],
   "source": [
    "from getpass import getpass\n",
    "from pydantic import SecretStr\n",
    "\n",
    "first_name = input(\"Enter your name: \")\n",
    "print(f\"Hello {first_name}\\n\")   ## F-strings. Commonly used to fill in variables\n",
    "\n",
    "secret = SecretStr(getpass(\"Please tell me a secret: \"))\n",
    "print(\"Your secret is:\", secret)  ## Another way to print multiple values. sep=\" \" is default\n",
    "# print(\"Your secret value is:\", secret.get_secret_value())"
   ]
  },
  {
   "cell_type": "markdown",
   "metadata": {
    "id": "1r1GI9bHd2Kj"
   },
   "source": [
    "**Multi-Line Grouping:**\n",
    "- In Python, a language sensitive to tabbing and newlines, some components can be grouped using parentheses. When you distribute code over multiple lines, newlines will be interpreted as spaces, as shown below:"
   ]
  },
  {
   "cell_type": "code",
   "execution_count": null,
   "metadata": {
    "colab": {
     "base_uri": "https://localhost:8080/",
     "height": 103
    },
    "executionInfo": {
     "elapsed": 166,
     "status": "ok",
     "timestamp": 1702746239412,
     "user": {
      "displayName": "Vadim Kudlay",
      "userId": "00553664172613290122"
     },
     "user_tz": 360
    },
    "id": "JmikhG6ifIfN",
    "outputId": "201861d2-0dd8-40c2-9807-c20eb551ebfa"
   },
   "outputs": [],
   "source": [
    "################################################################################\n",
    "## Implicit string concatenation. Interpretted as `print( \"Hello\" \"World\" )`\n",
    "print(\n",
    "    \"Hello\" \"World\"\n",
    ")\n",
    "\n",
    "################################################################################\n",
    "## Implicit string concatenation. Interpretted as `print( \"5\" \" \" \"8\" )`\n",
    "print((\n",
    "    \"5\" \" \"\n",
    "    \"8\"\n",
    "))\n",
    "\n",
    "print(\n",
    "    5 +\n",
    "    6\n",
    ")\n",
    "\n",
    "################################################################################\n",
    "## The below line is considered bad syntax, and the cell will fail to evaluate\n",
    "# 5 +\n",
    "# 6\n",
    "\n",
    "################################################################################\n",
    "## The following forcefully tries to run contents of the following line:\n",
    "try:\n",
    "    eval(\"5 + \\n6\")\n",
    "except Exception as e:\n",
    "    print(e)\n",
    "\n",
    "################################################################################\n",
    "## Useful example, where lines can be commented out to remove functionality:\n",
    "(\n",
    "    f\"Hello {first_name}\"\n",
    "        .upper()\n",
    "        + '!!'\n",
    "        # '!!!'    ## Uncomment to add even more. Useful for organizing\n",
    "        ' It\\'s so nice to meet you!'\n",
    "\n",
    ")"
   ]
  },
  {
   "cell_type": "markdown",
   "metadata": {
    "id": "1CLJ-qrdqqEi"
   },
   "source": [
    "-----\n",
    "\n",
    "<br>\n",
    "\n",
    "## **Wrap-Up**\n",
    "\n",
    "Now that we have the basics down, we're ready to get started with the course! Please continue on to the next video and, subsequently, `01_environment.ipynb`, where you'll learn about the environmental setup of the course!\n",
    "\n",
    "### <font color=\"#76b900\">**Good Luck!**</font>\n",
    "\n",
    "<br>\n",
    "\n",
    "---"
   ]
  },
  {
   "cell_type": "markdown",
   "metadata": {
    "id": "Eg5-HvX6bFDW"
   },
   "source": [
    "<center><a href=\"https://www.nvidia.com/dli\"> <img src=\"https://dli-lms.s3.amazonaws.com/assets/general/DLI_Header_White.png\" alt=\"Header\" style=\"width: 400px;\"/> </a></center>"
   ]
  }
 ],
 "metadata": {
  "colab": {
   "provenance": []
  },
  "kernelspec": {
   "display_name": "Python 3 (ipykernel)",
   "language": "python",
   "name": "python3"
  },
  "language_info": {
   "codemirror_mode": {
    "name": "ipython",
    "version": 3
   },
   "file_extension": ".py",
   "mimetype": "text/x-python",
   "name": "python",
   "nbconvert_exporter": "python",
   "pygments_lexer": "ipython3",
   "version": "3.11.9"
  }
 },
 "nbformat": 4,
 "nbformat_minor": 4
}
