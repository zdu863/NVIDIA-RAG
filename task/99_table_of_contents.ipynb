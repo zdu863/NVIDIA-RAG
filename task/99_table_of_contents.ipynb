{
 "cells": [
  {
   "cell_type": "markdown",
   "metadata": {},
   "source": [
    "<center><a href=\"https://www.nvidia.com/en-us/training/\"><img src=\"https://dli-lms.s3.amazonaws.com/assets/general/DLI_Header_White.png\" width=\"400\" height=\"186\" /></a></center>"
   ]
  },
  {
   "cell_type": "markdown",
   "metadata": {},
   "source": [
    "# <font color=\"#76b900\">**Table Of Contents**</font>\n",
    "\n",
    "\n",
    "### **Welcome to the course!** \n",
    "\n",
    "Please navigate through the notebooks and feel free to explore other other components as something peaks your interest.\n",
    "\n",
    "#### **Microservices:**\n",
    "- **`./chatbot`**: A basic chatbot interface which allows several accesses to multiple models.\n",
    "    - **Basic:** No system message, just LLM access. ***Falls out of developments in Notebook 6.***\n",
    "    - **Context:** Loads in the context of the specified notebooks (context tab) at the start. ***Falls out of developments in Notebook 6.***\n",
    "    - **Agentic:** Tries to load in notebooks from environment and reason about it. ***Falls out of developments in Notebook 7.5.***\n",
    "- **`./composer`**: The spinup routine used to construct the environment. Can technically be used to replicate environment (advanced use-case).\n",
    "- **`./docker-router`**: A helper microservice (for advanced use/TA help). Also used to facilitate assessment.\n",
    "- **`./frontend`**: A course-specific chatbot window which will be used throughout the course, ***including for the final assessment.***\n",
    "- **`./llm_client`**: Enables API access to [`build.nvidia.com`](build.nvidia.com), which hosts NVIDIA NIM endpoints. Used in notebooks 6+.\n",
    "\n",
    "#### **Caches**\n",
    "- **`./imgs`**: Images from the course (used in the notebooks).\n",
    "- **`./slides`**: Important slides from the presentation.\n",
    "- **`./solutions`**: Solutions to the exercises."
   ]
  },
  {
   "cell_type": "markdown",
   "metadata": {},
   "source": [
    "<br>\n",
    "\n",
    "## Using The Course Chatbot"
   ]
  },
  {
   "cell_type": "code",
   "execution_count": null,
   "metadata": {},
   "outputs": [],
   "source": [
    "%%js\n",
    "var url = 'http://'+window.location.host+':8999';\n",
    "element.innerHTML = '<a style=\"color:#76b900;\" target=\"_blank\" href='+url+'><h2>< Link To Gradio Chatbot ></h2></a>';"
   ]
  },
  {
   "cell_type": "markdown",
   "metadata": {},
   "source": [
    "<br>\n",
    "\n",
    "## Using The Course Exercise Frontend"
   ]
  },
  {
   "cell_type": "code",
   "execution_count": null,
   "metadata": {},
   "outputs": [],
   "source": [
    "%%js\n",
    "var url = 'http://'+window.location.host+':8090';\n",
    "element.innerHTML = '<a style=\"color:#76b900;\" target=\"_blank\" href='+url+'><h2>< Link To Gradio Frontend ></h2></a>';"
   ]
  },
  {
   "cell_type": "markdown",
   "metadata": {},
   "source": [
    "<br>\n",
    "\n",
    "## Using Docker-Router To Read Logs"
   ]
  },
  {
   "cell_type": "code",
   "execution_count": null,
   "metadata": {},
   "outputs": [],
   "source": [
    "import requests\n",
    "\n",
    "for entry in requests.get(\"http://docker_router:8070/containers\").json():\n",
    "    if entry.get(\"status\") == 'running':\n",
    "        print(entry.get(\"name\"))"
   ]
  },
  {
   "cell_type": "code",
   "execution_count": null,
   "metadata": {},
   "outputs": [],
   "source": [
    "service_name = \"chatbot\"  ## Which microservice to look at\n",
    "# from_idx = -4000           ## - to see truncated output\n",
    "from_idx = 0             ## - to see full output\n",
    "print(requests.get(f\"http://docker_router:8070/containers/{service_name}/logs\").json()[\"logs\"][from_idx:])"
   ]
  },
  {
   "cell_type": "markdown",
   "metadata": {},
   "source": [
    "<center><a href=\"https://www.nvidia.com/dli\"> <img src=\"https://dli-lms.s3.amazonaws.com/assets/general/DLI_Header_White.png\" alt=\"Header\" style=\"width: 400px;\"/> </a></center>"
   ]
  }
 ],
 "metadata": {
  "kernelspec": {
   "display_name": "Python 3 (ipykernel)",
   "language": "python",
   "name": "python3"
  },
  "language_info": {
   "codemirror_mode": {
    "name": "ipython",
    "version": 3
   },
   "file_extension": ".py",
   "mimetype": "text/x-python",
   "name": "python",
   "nbconvert_exporter": "python",
   "pygments_lexer": "ipython3",
   "version": "3.11.9"
  }
 },
 "nbformat": 4,
 "nbformat_minor": 4
}
